{
  "nbformat": 4,
  "nbformat_minor": 0,
  "metadata": {
    "colab": {
      "provenance": [],
      "authorship_tag": "ABX9TyPAHKsrPBl6fHiI7VH50mnC",
      "include_colab_link": true
    },
    "kernelspec": {
      "name": "python3",
      "display_name": "Python 3"
    },
    "language_info": {
      "name": "python"
    }
  },
  "cells": [
    {
      "cell_type": "markdown",
      "metadata": {
        "id": "view-in-github",
        "colab_type": "text"
      },
      "source": [
        "<a href=\"https://colab.research.google.com/github/jaytrey777/Classification-Trees/blob/main/Classification_Trees.ipynb\" target=\"_parent\"><img src=\"https://colab.research.google.com/assets/colab-badge.svg\" alt=\"Open In Colab\"/></a>"
      ]
    },
    {
      "cell_type": "markdown",
      "source": [
        "# Tasks"
      ],
      "metadata": {
        "id": "vshylW-iCWcb"
      }
    },
    {
      "cell_type": "markdown",
      "source": [
        "Uue the following classifiers to obtain the highest accuracy possible on the test set:\n",
        "\n",
        "1. decision tree classifier,\n",
        "\n",
        "2. bagging classifier, and a\n",
        "\n",
        "3. random forest classifier"
      ],
      "metadata": {
        "id": "QSwtnT1_CeFW"
      }
    },
    {
      "cell_type": "markdown",
      "source": [
        "Link to original dataset:\n",
        "https://drive.google.com/file/d/1Zms1RfgkWrTp7S6_BFpeELYyvX1s2FSN/view"
      ],
      "metadata": {
        "id": "FYSfcJmdC7I9"
      }
    },
    {
      "cell_type": "markdown",
      "source": [
        "# Imports"
      ],
      "metadata": {
        "id": "2iAmKNryDITo"
      }
    },
    {
      "cell_type": "code",
      "execution_count": null,
      "metadata": {
        "id": "T94iE5eeANxy"
      },
      "outputs": [],
      "source": [
        "\n",
        "from sklearn.tree import DecisionTreeClassifier\n",
        "from sklearn.ensemble import BaggingClassifier\n",
        "from sklearn.ensemble import RandomForestClassifier\n"
      ]
    }
  ]
}