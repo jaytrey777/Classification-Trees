{
  "nbformat": 4,
  "nbformat_minor": 0,
  "metadata": {
    "colab": {
      "provenance": [],
      "authorship_tag": "ABX9TyO2UyUnz0q77k7EXwc/MwBa",
      "include_colab_link": true
    },
    "kernelspec": {
      "name": "python3",
      "display_name": "Python 3"
    },
    "language_info": {
      "name": "python"
    }
  },
  "cells": [
    {
      "cell_type": "markdown",
      "metadata": {
        "id": "view-in-github",
        "colab_type": "text"
      },
      "source": [
        "<a href=\"https://colab.research.google.com/github/jaytrey777/Classification-Trees/blob/main/Classification_Trees.ipynb\" target=\"_parent\"><img src=\"https://colab.research.google.com/assets/colab-badge.svg\" alt=\"Open In Colab\"/></a>"
      ]
    },
    {
      "cell_type": "markdown",
      "source": [
        "# Tasks"
      ],
      "metadata": {
        "id": "vshylW-iCWcb"
      }
    },
    {
      "cell_type": "markdown",
      "source": [
        "Uue the following classifiers to obtain the highest accuracy possible on the test set:\n",
        "\n",
        "1. Decision Tree Classifier\n",
        "\n",
        "2. Bagging Classifier\n",
        "\n",
        "3. Random Forest Classifier"
      ],
      "metadata": {
        "id": "QSwtnT1_CeFW"
      }
    },
    {
      "cell_type": "markdown",
      "source": [
        "Link to original dataset:\n",
        "https://drive.google.com/file/d/1Zms1RfgkWrTp7S6_BFpeELYyvX1s2FSN/view"
      ],
      "metadata": {
        "id": "FYSfcJmdC7I9"
      }
    },
    {
      "cell_type": "markdown",
      "source": [
        "# Imports"
      ],
      "metadata": {
        "id": "2iAmKNryDITo"
      }
    },
    {
      "cell_type": "code",
      "source": [],
      "metadata": {
        "id": "RoplZ3e9F94_"
      },
      "execution_count": null,
      "outputs": []
    },
    {
      "cell_type": "code",
      "execution_count": null,
      "metadata": {
        "id": "T94iE5eeANxy"
      },
      "outputs": [],
      "source": [
        "\n",
        "from sklearn.tree import DecisionTreeClassifier\n",
        "from sklearn.ensemble import BaggingClassifier\n",
        "from sklearn.ensemble import RandomForestClassifier\n"
      ]
    },
    {
      "cell_type": "markdown",
      "source": [
        "# Data Loading & Cleaing"
      ],
      "metadata": {
        "id": "NkaGu47xF-qX"
      }
    },
    {
      "cell_type": "code",
      "source": [],
      "metadata": {
        "id": "zXecxEpyGDqU"
      },
      "execution_count": null,
      "outputs": []
    },
    {
      "cell_type": "markdown",
      "source": [
        "# Preprocessing"
      ],
      "metadata": {
        "id": "z9a1AitMGD7u"
      }
    },
    {
      "cell_type": "code",
      "source": [],
      "metadata": {
        "id": "3TXetV2cGIVr"
      },
      "execution_count": null,
      "outputs": []
    },
    {
      "cell_type": "markdown",
      "source": [
        "# Decision Tree Classifier"
      ],
      "metadata": {
        "id": "f7Rd2lksGIkz"
      }
    },
    {
      "cell_type": "code",
      "source": [],
      "metadata": {
        "id": "QqMJPoHkGZb_"
      },
      "execution_count": null,
      "outputs": []
    },
    {
      "cell_type": "markdown",
      "source": [
        "#Bagging Classifier"
      ],
      "metadata": {
        "id": "6wgchZI1GaDG"
      }
    },
    {
      "cell_type": "code",
      "source": [],
      "metadata": {
        "id": "S5NBWa_TGd5Z"
      },
      "execution_count": null,
      "outputs": []
    },
    {
      "cell_type": "markdown",
      "source": [
        "# Random Forest Classifier"
      ],
      "metadata": {
        "id": "AhGOSoLgGeap"
      }
    },
    {
      "cell_type": "code",
      "source": [],
      "metadata": {
        "id": "8CxDBlPBGe7G"
      },
      "execution_count": null,
      "outputs": []
    },
    {
      "cell_type": "markdown",
      "source": [
        "# Analysis"
      ],
      "metadata": {
        "id": "QB23JBbKGkPZ"
      }
    },
    {
      "cell_type": "markdown",
      "source": [],
      "metadata": {
        "id": "DsmXSS3VGn_Z"
      }
    },
    {
      "cell_type": "markdown",
      "source": [
        "# Optimization"
      ],
      "metadata": {
        "id": "U2aHqnpbGoVL"
      }
    },
    {
      "cell_type": "code",
      "source": [],
      "metadata": {
        "id": "_aGQ-ZRKGuLK"
      },
      "execution_count": null,
      "outputs": []
    },
    {
      "cell_type": "markdown",
      "source": [
        "# Final Analysis"
      ],
      "metadata": {
        "id": "U4uPt90MGua_"
      }
    },
    {
      "cell_type": "markdown",
      "source": [],
      "metadata": {
        "id": "6evszWQBGxjL"
      }
    }
  ]
}